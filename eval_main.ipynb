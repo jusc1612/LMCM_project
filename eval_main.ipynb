{
 "cells": [
  {
   "cell_type": "markdown",
   "metadata": {},
   "source": [
    "## Evaluation "
   ]
  },
  {
   "cell_type": "code",
   "execution_count": 2,
   "metadata": {},
   "outputs": [],
   "source": [
    "import pandas as pd\n",
    "import string"
   ]
  },
  {
   "cell_type": "code",
   "execution_count": 23,
   "metadata": {},
   "outputs": [
    {
     "data": {
      "text/plain": [
       "True"
      ]
     },
     "execution_count": 23,
     "metadata": {},
     "output_type": "execute_result"
    }
   ],
   "source": [
    "(\"eyeglasses\", 'glasses') == (\"eyeglasses\", 'glasses')"
   ]
  },
  {
   "cell_type": "code",
   "execution_count": null,
   "metadata": {},
   "outputs": [],
   "source": []
  },
  {
   "cell_type": "code",
   "execution_count": 8,
   "metadata": {},
   "outputs": [
    {
     "name": "stdout",
     "output_type": "stream",
     "text": [
      "Total errors: 3159\n",
      "                                              sentence  \\\n",
      "120  Sebastian has a sister , played basketball , s...   \n",
      "122  Jake has a sister , played basketball and now ...   \n",
      "123  John has a sister , played basketball and now ...   \n",
      "124  John has a sister , played basketball , sang i...   \n",
      "125  Joe has a sister , played basketball and now w...   \n",
      "\n",
      "                                            prediction target  \n",
      "120                                        baked goods  bread  \n",
      "122  baked goods for hobbies rowan enjoys flower ar...  bread  \n",
      "123                                        baked goods  bread  \n",
      "124                                        baked goods  bread  \n",
      "125  daniel sells computers for hobbies sebastian c...  bread  \n",
      "2149\n",
      "1010\n"
     ]
    }
   ],
   "source": [
    "eval_df = pd.read_csv(\"eval/errors_isin_multiSem_baseline_oracle_mistral-instruct-v2.csv\")\n",
    "print(f\"Total errors: {len(eval_df)}\")\n",
    "\n",
    "string_pairs = [('eyeglasses', 'glasses'), ('canvas', 'paintings'), ('pastries', 'bread'), ('canvases', 'paintings'), ('paint', 'paintings'), ('spectacles', 'glasses'), ('meats', 'meat')]\n",
    "\n",
    "# Iterate over rows and keep only those where B and C correspond\n",
    "drop_index = set()\n",
    "for index, row in eval_df.iterrows():\n",
    "    for pair in string_pairs:\n",
    "        if pair[0] in row['prediction'].split() and pair[1] == row['target']:\n",
    "            drop_index.add(index)\n",
    "        #elif row['prediction'].split()) > 1:\n",
    "         #   drop_index.add(index)\n",
    "\n",
    "eval_new = eval_df.drop(index=drop_index)\n",
    "print(eval_new.head())\n",
    "print(len(eval_new))\n",
    "print(len(drop_index))"
   ]
  },
  {
   "cell_type": "code",
   "execution_count": 9,
   "metadata": {},
   "outputs": [],
   "source": [
    "file_name = \"multiSem_isIn_mistral\"\n",
    "eval_new.to_csv(f\"/local/js/LMCM_project/error_files/test2_multiSem_isIn_mistral.csv\", index=False)"
   ]
  }
 ],
 "metadata": {
  "kernelspec": {
   "display_name": "Python 3",
   "language": "python",
   "name": "python3"
  },
  "language_info": {
   "codemirror_mode": {
    "name": "ipython",
    "version": 3
   },
   "file_extension": ".py",
   "mimetype": "text/x-python",
   "name": "python",
   "nbconvert_exporter": "python",
   "pygments_lexer": "ipython3",
   "version": "3.12.2"
  }
 },
 "nbformat": 4,
 "nbformat_minor": 2
}
