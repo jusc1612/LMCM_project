{
 "cells": [
  {
   "cell_type": "markdown",
   "metadata": {},
   "source": [
    "## Evaluation "
   ]
  },
  {
   "cell_type": "code",
   "execution_count": 1,
   "metadata": {},
   "outputs": [],
   "source": [
    "import pandas as pd"
   ]
  },
  {
   "cell_type": "code",
   "execution_count": 23,
   "metadata": {},
   "outputs": [
    {
     "data": {
      "text/plain": [
       "True"
      ]
     },
     "execution_count": 23,
     "metadata": {},
     "output_type": "execute_result"
    }
   ],
   "source": [
    "(\"eyeglasses\", 'glasses') == (\"eyeglasses\", 'glasses')"
   ]
  },
  {
   "cell_type": "code",
   "execution_count": 49,
   "metadata": {},
   "outputs": [
    {
     "name": "stdout",
     "output_type": "stream",
     "text": [
      "Total errors: 3159\n",
      "                                               sentence prediction     target\n",
      "2891  jake has a sister , played basketball , sang i...       peru     France\n",
      "2892  rowan has a sister , played basketball , sang ...     france       Peru\n",
      "2895  john has a sister , played basketball , sang i...       peru     Russia\n",
      "2907  Daniel played football . In his game , Daniel ...       goal  touchdown\n",
      "2908  Daniel has a sister and played football . In h...       goal  touchdown\n",
      "48\n",
      "3111\n"
     ]
    }
   ],
   "source": [
    "eval_df = pd.read_csv(\"eval\\errors_isin_multiSem_baseline_oracle_mistral-instruct-v2.csv\")\n",
    "print(f\"Total errors: {len(eval_df)}\")\n",
    "\n",
    "string_pairs = [('eyeglasses', 'glasses'), ('canvas', 'paintings'), ('pastries', 'bread'), ('canvases', 'paintings'), ('paint', 'paintings'), ('spectacles', 'glasses'), ('meats', 'meat')]\n",
    "\n",
    "# Iterate over rows and keep only those where B and C correspond\n",
    "drop_index = set()\n",
    "for index, row in eval_df.iterrows():\n",
    "    for pair in string_pairs:\n",
    "        if pair[0] == row['prediction'].split()[0] and pair[1] == row['target']:\n",
    "            drop_index.add(index)\n",
    "        elif len(row['prediction'].split()) > 1:\n",
    "            drop_index.add(index)\n",
    "\n",
    "eval_new = eval_df.drop(index=drop_index)\n",
    "print(eval_new.head())\n",
    "print(len(eval_new))\n",
    "print(len(drop_index))"
   ]
  },
  {
   "cell_type": "code",
   "execution_count": 50,
   "metadata": {},
   "outputs": [],
   "source": [
    "file_name = \"multiSem_isIn_mistral\"\n",
    "eval_new.to_csv(f\"D:\\Julian Schlenker\\Documents\\LMCM_project\\error_files\\{file_name}.csv\", index=False)"
   ]
  }
 ],
 "metadata": {
  "kernelspec": {
   "display_name": "Python 3",
   "language": "python",
   "name": "python3"
  },
  "language_info": {
   "codemirror_mode": {
    "name": "ipython",
    "version": 3
   },
   "file_extension": ".py",
   "mimetype": "text/x-python",
   "name": "python",
   "nbconvert_exporter": "python",
   "pygments_lexer": "ipython3",
   "version": "3.11.1"
  }
 },
 "nbformat": 4,
 "nbformat_minor": 2
}
